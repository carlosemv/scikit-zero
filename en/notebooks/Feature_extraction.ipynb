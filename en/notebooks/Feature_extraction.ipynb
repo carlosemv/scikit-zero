{
  "nbformat": 4,
  "nbformat_minor": 0,
  "metadata": {
    "colab": {
      "name": "Feature extraction.ipynb",
      "provenance": [],
      "collapsed_sections": [],
      "toc_visible": true
    },
    "kernelspec": {
      "name": "python3",
      "display_name": "Python 3"
    }
  },
  "cells": [
    {
      "cell_type": "markdown",
      "metadata": {
        "id": "ZddwaxRni6lY"
      },
      "source": [
        "# **Feature engineering: extraction**\n",
        "\n",
        "As mentioned in the [feature selection notebook](https://github.com/leobezerra/scikit-zero/blob/master/en/notebooks/Feature_selection.ipynb), the Feature engineering pipeline also includes feature extraction. Feature Extraction aims to reduce the number of features in a dataset by creating new features from the existing ones (and then discarding the original features).\n",
        "\n",
        "Feature Extraction techniques can lead advantages such as:\n",
        "- Accuracy improvements.\n",
        "- Overfitting risk reduction.\n",
        "- Speed up in training.\n",
        "- Improved Data Visualization.\n",
        "- Increase in explainability of our model.\n",
        "\n",
        "In this notebook we are going to use pandas and sckit-learn (sklearn), which is used for data mining and analysis. The dataset we use for all examples of algorithms will be the popular iris dataset\n"
      ]
    },
    {
      "cell_type": "code",
      "metadata": {
        "id": "HwEfTq7RfRd1"
      },
      "source": [
        "import pandas as pd\n",
        "\n",
        "url = \"https://archive.ics.uci.edu/ml/machine-learning-databases/iris/iris.data\"\n",
        "\n",
        "df = pd.read_csv(url, names=['sepal length','sepal width','petal length','petal width','target'])"
      ],
      "execution_count": null,
      "outputs": []
    },
    {
      "cell_type": "markdown",
      "metadata": {
        "id": "FE9KLh1t3aMO"
      },
      "source": [
        "Verifying uploaded data:"
      ]
    },
    {
      "cell_type": "code",
      "metadata": {
        "id": "yN3eT0nY3Z7L"
      },
      "source": [
        "df.head()"
      ],
      "execution_count": null,
      "outputs": []
    },
    {
      "cell_type": "markdown",
      "metadata": {
        "id": "vWlUDidC4IJ2"
      },
      "source": [
        "We can see that the iris dataset has 4 features. When extracting features we ended up reducing the dimensionality of the data. In other words, the number of features. There are some algorithms for this purpose, the ones we will cover are:\n",
        "\n",
        "\n",
        "*   ***Principal component analysis (PCA)***\n",
        "*   ***Linear discriminant analysis (LDA)***\n",
        "*   ***Independent component analysis (ICA)***\n",
        "*   ***t-Distributed Stochastic Neighbor Embedding (t-SNE)***\n",
        " \n",
        "\n",
        "\n",
        "\n",
        "\n",
        "\n",
        "\n",
        "\n",
        "\n",
        "\n",
        "\n",
        "\n",
        "\n",
        "\n",
        "\n"
      ]
    },
    {
      "cell_type": "markdown",
      "metadata": {
        "id": "4yKi7UeyV3ng"
      },
      "source": [
        "## **PCA** \n",
        "\n",
        "> An unsupervised linear dimensionality reduction technique that uses an orthogonal transformation to convert a set of observations of possibly correlated variables into a set of linearly uncorrelated variable values called principal components. The number of main components is always less than or equal to the number of original variables. The PCA is associated with a technique for reducing the mass of data, with the least possible loss of information, grouping them in an order according to their variation, that is, according to their behavior within the population. In this way, it allows to summarize and visualize the information in a data set containing the information by multiple correlated quantitative variables, extracting important information from a data table, making it easier to work, since smaller sets are easier to explore by providing faster the algorithm to be implemented.\n",
        "\n",
        "\n"
      ]
    },
    {
      "cell_type": "code",
      "metadata": {
        "id": "cO3V0YWbG9vZ"
      },
      "source": [
        "from sklearn.decomposition import PCA\n",
        "from sklearn.preprocessing import StandardScaler\n",
        "import numpy as np\n",
        "\n",
        "features = ['sepal length', 'sepal width', 'petal length', 'petal width']\n",
        "\n",
        "x = df.loc[:, features].values\n",
        "y = df.loc[:,['target']].values\n",
        "x = StandardScaler().fit_transform(x)\n",
        "\n",
        "pca = PCA(n_components=3)\n",
        "componentes = pca.fit_transform(x)\n",
        "\n",
        "\n",
        "\n",
        "PCAdf = pd.DataFrame(data = componentes\n",
        "             , columns = ['componente 1', 'componente 2','componente 3'])\n",
        "\n",
        "PCAdf.head()"
      ],
      "execution_count": null,
      "outputs": []
    },
    {
      "cell_type": "markdown",
      "metadata": {
        "id": "GL6bzUeGIvaW"
      },
      "source": [
        "Joining the two components with the target:"
      ]
    },
    {
      "cell_type": "code",
      "metadata": {
        "id": "Q0dgKHwT3glx"
      },
      "source": [
        "finaldf = pd.concat([PCAdf, df[['target']]], axis = 1)\n",
        "\n",
        "finaldf.head()"
      ],
      "execution_count": null,
      "outputs": []
    },
    {
      "cell_type": "markdown",
      "metadata": {
        "id": "tOFAfLNDJDP4"
      },
      "source": [
        "We can see that we reduced the number of features in the dataset to just 2 components, they together contain 95.8% of the initial information."
      ]
    },
    {
      "cell_type": "markdown",
      "metadata": {
        "id": "7Ucrv6i2OqTh"
      },
      "source": [
        "It shows the value of the variation of each main component relative to the original data\n"
      ]
    },
    {
      "cell_type": "code",
      "metadata": {
        "id": "DiWdhxkAR4J1"
      },
      "source": [
        "import seaborn as sns\n",
        "\n",
        "df = pd.DataFrame({'var':pca.explained_variance_ratio_,\n",
        "             'PC':['PC1','PC2','PC3']})\n",
        "sns.barplot(x='PC',y=\"var\", \n",
        "           data=df, color=\"c\");"
      ],
      "execution_count": null,
      "outputs": []
    },
    {
      "cell_type": "markdown",
      "metadata": {
        "id": "PU6yUIElKKhy"
      },
      "source": [
        "## ***LDA***\n",
        "\n",
        "> It is also a method of reducing dimensionality that uses information from the categories (SUPERVISED) associated with each pattern to linearly extract the most discriminating characteristics. LDA is most commonly used as a dimensionality reduction technique in the pre-processing step for classifying patterns and machine learning applications. The objective is to design a data set in a space of a smaller dimension with good class separability, in order to avoid overfitting and also reduce computational costs. With this approach, the similarity between the LDA and the PCA is perceived, but besides finding the axes of components that maximize the variation of the data, it is also necessary to find the axes that maximize the separation between various classes, it helps to avoid overfitting by minimizing the error in parameter estimation.\n"
      ]
    },
    {
      "cell_type": "code",
      "metadata": {
        "id": "2lgnSuSgKWWT"
      },
      "source": [
        "from sklearn.discriminant_analysis import LinearDiscriminantAnalysis as LDA\n",
        "from sklearn.model_selection import train_test_split\n",
        "\n",
        "\n",
        "X_train, X_test, y_train, y_test = train_test_split(x, y, test_size=0.2, random_state=0)\n",
        "\n",
        "lda = LDA(n_components=2)\n",
        "\n",
        "X_test"
      ],
      "execution_count": null,
      "outputs": []
    },
    {
      "cell_type": "markdown",
      "metadata": {
        "id": "DtNw9YxBgWgv"
      },
      "source": [
        "Reducing to 2 features:"
      ]
    },
    {
      "cell_type": "code",
      "metadata": {
        "id": "kbblTQ5YfdnB"
      },
      "source": [
        "X_train = lda.fit_transform(X_train, y_train)\n",
        "X_test = lda.transform(X_test)\n",
        "\n",
        "X_test"
      ],
      "execution_count": null,
      "outputs": []
    },
    {
      "cell_type": "markdown",
      "metadata": {
        "id": "O3jNlNjULGbS"
      },
      "source": [
        "## ***ICA***\n",
        "\n",
        "> A dimensionality reduction algorithm that transforms a set of variables ​​in a new set of components. It does this so that the statistical independence between the new components is maximized. This is similar to (PCA), which maps a collection of variables ​​for statistically unrelated components, except that the ICA goes a step further by maximizing statistical independence rather than just developing uncorrelated components. If we talk about an image, it means that you will find the curves and borders within an image. For example, in facial recognition, the ICA will identify the eyes, nose, mouth, etc. as independent components."
      ]
    },
    {
      "cell_type": "code",
      "metadata": {
        "id": "_gjFZxLbLG-h"
      },
      "source": [
        "from sklearn.decomposition import FastICA\n",
        "\n",
        "transformer = FastICA(n_components=2,random_state=0)\n",
        "x = transformer.fit_transform(x)\n",
        "x"
      ],
      "execution_count": null,
      "outputs": []
    },
    {
      "cell_type": "markdown",
      "metadata": {
        "id": "a_7vrWVyLFYB"
      },
      "source": [
        "## ***t-SNE***\n",
        "\n",
        "> The objective of t-SNE is from a set of points in a multi-dimensional space to find a faithful representation of these points in a space of smaller dimension, usually a 2D plane. The algorithm is non-linear and adapts to the data, performing different transformations in different regions of multi-dimensional space. \n",
        "PCA is similar to t-SNE, however PCA is a linear dimension reduction technique that aims to maximize variance and preserve large distances between pairs, on the other hand t-SNE preserves only small distances between pairs or local similarities. t-SNE calculates a measure of similarity between pairs of instances in the upper dimensional space and the lower dimensional space. He then tries to optimize these two similarity measures using a cost function."
      ]
    },
    {
      "cell_type": "code",
      "metadata": {
        "id": "QTC2g1R_PuO6"
      },
      "source": [
        "from sklearn.manifold import TSNE\n",
        "df = pd.read_csv(url, names=['sepal length','sepal width','petal length','petal width','target'])\n",
        "\n",
        "tsne = TSNE(n_components=2, n_iter=1000, random_state=40)\n",
        "points = tsne.fit_transform(df[features])\n",
        "\n",
        "points"
      ],
      "execution_count": null,
      "outputs": []
    },
    {
      "cell_type": "markdown",
      "metadata": {
        "id": "3uA-ANIGVgSn"
      },
      "source": [
        "Now that we have the two resulting dimensions we can visualise them by creating a scatter plot of the two dimensions and coloring each sample by its respective **label**."
      ]
    },
    {
      "cell_type": "code",
      "metadata": {
        "id": "ads655KHVhae"
      },
      "source": [
        "import matplotlib.pyplot as plt \n",
        "\n",
        "df['tsne-2d-one'] = points[:,0]\n",
        "df['tsne-2d-two'] = points[:,1]\n",
        "\n",
        "plt.figure(figsize=(10,7))\n",
        "sns.scatterplot(\n",
        "    x=\"tsne-2d-one\", y=\"tsne-2d-two\",\n",
        "    hue=\"target\",\n",
        "    data=df,\n",
        "    legend=\"full\",\n",
        "    alpha=0.3\n",
        ")"
      ],
      "execution_count": null,
      "outputs": []
    },
    {
      "cell_type": "markdown",
      "metadata": {
        "id": "gP7xN0-WXLZu"
      },
      "source": [
        "We can see that the **label** are very clearly clustered in their own sub groups. If we would now use a clustering algorithm to pick out the seperate clusters we could probably quite accurately assign new points to a **label**."
      ]
    }
  ]
}